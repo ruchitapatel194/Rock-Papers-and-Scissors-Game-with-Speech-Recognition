{
 "cells": [
  {
   "cell_type": "markdown",
   "id": "4b135043-8949-4b12-bc45-0de4180f474d",
   "metadata": {},
   "source": [
    "### upgrading pip"
   ]
  },
  {
   "cell_type": "code",
   "execution_count": 1,
   "id": "54f28da6-1fce-45f7-afa3-e8a4344ffbf5",
   "metadata": {
    "tags": []
   },
   "outputs": [
    {
     "name": "stdout",
     "output_type": "stream",
     "text": [
      "Requirement already satisfied: pip in c:\\users\\hetal\\anaconda3\\lib\\site-packages (24.2)\n",
      "Note: you may need to restart the kernel to use updated packages.\n"
     ]
    },
    {
     "name": "stderr",
     "output_type": "stream",
     "text": [
      "WARNING: Error parsing dependencies of textract: .* suffix can only be used with `==` or `!=` operators\n",
      "    extract-msg (<=0.29.*)\n",
      "                 ~~~~~~~^\n"
     ]
    }
   ],
   "source": [
    "pip install --upgrade pip"
   ]
  },
  {
   "cell_type": "markdown",
   "id": "525b86de-da55-4e9f-a8e5-46e3ddd61373",
   "metadata": {},
   "source": [
    "### Installing latest version of SpeechRecognition"
   ]
  },
  {
   "cell_type": "code",
   "execution_count": 2,
   "id": "deddd0f1-b18f-443f-afa0-5880103ce131",
   "metadata": {},
   "outputs": [
    {
     "name": "stdout",
     "output_type": "stream",
     "text": [
      "Requirement already satisfied: SpeechRecognition==3.8.1 in c:\\users\\hetal\\anaconda3\\lib\\site-packages (3.8.1)\n",
      "Note: you may need to restart the kernel to use updated packages.\n"
     ]
    },
    {
     "name": "stderr",
     "output_type": "stream",
     "text": [
      "WARNING: Error parsing dependencies of textract: .* suffix can only be used with `==` or `!=` operators\n",
      "    extract-msg (<=0.29.*)\n",
      "                 ~~~~~~~^\n"
     ]
    }
   ],
   "source": [
    "pip install SpeechRecognition==3.8.1"
   ]
  },
  {
   "cell_type": "markdown",
   "id": "a800230e-a775-4ab2-aa75-75ee12ccc792",
   "metadata": {},
   "source": [
    "### Installing pyttsx3 to cconvert text to audio for voice assistance"
   ]
  },
  {
   "cell_type": "code",
   "execution_count": 3,
   "id": "c46b5088-c168-4268-a497-425b693f7543",
   "metadata": {},
   "outputs": [
    {
     "name": "stdout",
     "output_type": "stream",
     "text": [
      "Requirement already satisfied: pyttsx3 in c:\\users\\hetal\\anaconda3\\lib\\site-packages (2.90)\n",
      "Requirement already satisfied: comtypes in c:\\users\\hetal\\anaconda3\\lib\\site-packages (from pyttsx3) (1.2.0)\n",
      "Requirement already satisfied: pypiwin32 in c:\\users\\hetal\\anaconda3\\lib\\site-packages (from pyttsx3) (223)\n",
      "Requirement already satisfied: pywin32 in c:\\users\\hetal\\anaconda3\\lib\\site-packages (from pyttsx3) (305.1)\n",
      "Note: you may need to restart the kernel to use updated packages.\n"
     ]
    },
    {
     "name": "stderr",
     "output_type": "stream",
     "text": [
      "WARNING: Error parsing dependencies of textract: .* suffix can only be used with `==` or `!=` operators\n",
      "    extract-msg (<=0.29.*)\n",
      "                 ~~~~~~~^\n"
     ]
    }
   ],
   "source": [
    "pip install pyttsx3"
   ]
  },
  {
   "cell_type": "markdown",
   "id": "5766f5a1-9e53-48cc-b6bd-892f70925434",
   "metadata": {},
   "source": [
    "### Installing PyAudio"
   ]
  },
  {
   "cell_type": "code",
   "execution_count": 4,
   "id": "472219d2-69a9-45dc-8c6b-4da179a77b8d",
   "metadata": {
    "tags": []
   },
   "outputs": [
    {
     "name": "stdout",
     "output_type": "stream",
     "text": [
      "Requirement already satisfied: PyAudio in c:\\users\\hetal\\anaconda3\\lib\\site-packages (0.2.14)\n",
      "Note: you may need to restart the kernel to use updated packages.\n"
     ]
    },
    {
     "name": "stderr",
     "output_type": "stream",
     "text": [
      "WARNING: Error parsing dependencies of textract: .* suffix can only be used with `==` or `!=` operators\n",
      "    extract-msg (<=0.29.*)\n",
      "                 ~~~~~~~^\n"
     ]
    }
   ],
   "source": [
    "pip install PyAudio"
   ]
  },
  {
   "cell_type": "code",
   "execution_count": 5,
   "id": "3e47b06c-ff40-4499-b1c0-71423153eb7c",
   "metadata": {},
   "outputs": [],
   "source": [
    "# Importing required libraries for this project\n",
    "import speech_recognition as sr\n",
    "import pyttsx3\n",
    "import tkinter as tk\n",
    "from PIL import Image, ImageTk\n",
    "import random"
   ]
  },
  {
   "cell_type": "markdown",
   "id": "3fb7c5cf-ee10-4794-927e-4ef947c60144",
   "metadata": {},
   "source": [
    "## <center> Initiating the program logic"
   ]
  },
  {
   "cell_type": "code",
   "execution_count": 6,
   "id": "b6752311-cbaf-4f7c-9c49-8a2ce8a5b2ee",
   "metadata": {
    "tags": []
   },
   "outputs": [
    {
     "name": "stderr",
     "output_type": "stream",
     "text": [
      "C:\\Users\\Hetal\\AppData\\Local\\Temp\\ipykernel_43624\\3216962924.py:82: DeprecationWarning: ANTIALIAS is deprecated and will be removed in Pillow 10 (2023-07-01). Use LANCZOS or Resampling.LANCZOS instead.\n",
      "  self.image1 = self.image1.resize((400, 300), Image.ANTIALIAS)\n",
      "C:\\Users\\Hetal\\AppData\\Local\\Temp\\ipykernel_43624\\3216962924.py:83: DeprecationWarning: ANTIALIAS is deprecated and will be removed in Pillow 10 (2023-07-01). Use LANCZOS or Resampling.LANCZOS instead.\n",
      "  self.image2 = self.image2.resize((400, 300), Image.ANTIALIAS)\n",
      "C:\\Users\\Hetal\\AppData\\Local\\Temp\\ipykernel_43624\\3216962924.py:84: DeprecationWarning: ANTIALIAS is deprecated and will be removed in Pillow 10 (2023-07-01). Use LANCZOS or Resampling.LANCZOS instead.\n",
      "  self.image3 = self.image3.resize((400, 300), Image.ANTIALIAS)\n",
      "C:\\Users\\Hetal\\AppData\\Local\\Temp\\ipykernel_43624\\3216962924.py:85: DeprecationWarning: ANTIALIAS is deprecated and will be removed in Pillow 10 (2023-07-01). Use LANCZOS or Resampling.LANCZOS instead.\n",
      "  self.image4 = self.image4.resize((400, 300), Image.ANTIALIAS)\n",
      "C:\\Users\\Hetal\\AppData\\Local\\Temp\\ipykernel_43624\\3216962924.py:86: DeprecationWarning: ANTIALIAS is deprecated and will be removed in Pillow 10 (2023-07-01). Use LANCZOS or Resampling.LANCZOS instead.\n",
      "  self.image5 = self.image5.resize((400, 300), Image.ANTIALIAS)\n",
      "C:\\Users\\Hetal\\AppData\\Local\\Temp\\ipykernel_43624\\3216962924.py:87: DeprecationWarning: ANTIALIAS is deprecated and will be removed in Pillow 10 (2023-07-01). Use LANCZOS or Resampling.LANCZOS instead.\n",
      "  self.image6 = self.image6.resize((400, 300), Image.ANTIALIAS)\n"
     ]
    },
    {
     "name": "stdout",
     "output_type": "stream",
     "text": [
      "Say 'rock', 'paper', or 'scissors':\n",
      "You said: Rock\n",
      "You chose: rock and Computer chose: scissors\n",
      "You win!\n"
     ]
    }
   ],
   "source": [
    "# Creating speech_recognizer class to execute speech and audio related functions\n",
    "class speech_recognizer():\n",
    "    \n",
    "    # Creating function named speak to convert text to audio for voice assistance\n",
    "    def speak(self, text):\n",
    "        engine = pyttsx3.init()\n",
    "        engine.say(text)\n",
    "        # Using runAndWait() function to wait for for a while before executing the next step\n",
    "        engine.runAndWait()\n",
    "    \n",
    "    # Creating function recognize_audio() to recognize speech by the user\n",
    "    def recognize_audio(self):\n",
    "        recognizer = sr.Recognizer()\n",
    "\n",
    "        # Using \"with sr.Microphone() as source\" to identify what the user is saying\n",
    "        with sr.Microphone() as source:\n",
    "            print(\"Say 'rock', 'paper', or 'scissors':\")\n",
    "            # Asking user to say either of Rock, Paper or Scissors with voice assistance\n",
    "            self.speak(f\"Say rock, paper, or scissors\")\n",
    "            # Using listen() function to save the speech in an audio file\n",
    "            audio = recognizer.listen(source)\n",
    "\n",
    "        # Using try-except to make the program fault tolerant\n",
    "        try:\n",
    "            # Recognizing the word spoken by the user\n",
    "            word = recognizer.recognize_google(audio).lower()\n",
    "            if word not in ['rock', 'paper', 'scissors']:\n",
    "                self.speak(f\"You said: {word}, Please speak something from the option\")\n",
    "            print(f\"You said: {word.title()}\")\n",
    "            return word\n",
    "        \n",
    "        # Handling errors if couldn't understand the audio\n",
    "        except sr.UnknownValueError:\n",
    "            print(\"Sorry, I couldn't understand the audio.\")\n",
    "            self.speak(\"Sorry, I couldn't understand the audio.\")\n",
    "            return None\n",
    "        except sr.RequestError as e:\n",
    "            print(f\"Could not request results from Google Web Speech API; {e}\")\n",
    "            self.speak(\"Sorry, I couldn't understand the audio.\")\n",
    "            return None\n",
    "\n",
    "    # Creating main fuction for this class that retuns the final words spoken by the user\n",
    "    def main(self):\n",
    "        word = self.recognize_audio()\n",
    "        return word\n",
    "    \n",
    "# Creating a class named game_logic to to determine the winner\n",
    "class game_logic():\n",
    "    \n",
    "    # Defining function named winner that returns coumputer's choice and the winner\n",
    "    def winner(self, word):\n",
    "        choices = [\"rock\", \"paper\", \"scissors\"]\n",
    "        computer_choice = random.choice(choices)\n",
    "        result = \"\"\n",
    "        if computer_choice == word:\n",
    "            result = \"It's a tie!\"\n",
    "        elif ((word == \"rock\" and computer_choice == \"scissors\") or (word == \"paper\" and computer_choice == \"rock\") or (word == \"scissors\" and computer_choice == \"paper\")):\n",
    "            result = \"You win!\"\n",
    "        else:\n",
    "            result = \"Computer wins!\"\n",
    "        \n",
    "        return computer_choice, result\n",
    "\n",
    "# Creating a class named 'ImageGUI' which will be responsible for running game.\n",
    "class ImageGUI(tk.Tk):\n",
    "    \n",
    "    #Defining init function and initialization of some variables.\n",
    "    def __init__(self):\n",
    "        tk.Tk.__init__(self)\n",
    "        self.title(\"Rock, Paper, Scissors\")\n",
    "\n",
    "        # Loading all the required images in respected variables\n",
    "        # Images with prefix \"c_\" denote computer and \"u_\" user\n",
    "        self.image1 = Image.open(\"u_rock.jpeg\")\n",
    "        self.image2 = Image.open(\"c_rock.jpeg\")\n",
    "        self.image3 = Image.open(\"u_paper.jpeg\")\n",
    "        self.image4 = Image.open(\"c_paper.jpeg\")\n",
    "        self.image5 = Image.open(\"u_scissors.jpeg\")\n",
    "        self.image6 = Image.open(\"c_scissors.jpeg\")\n",
    "\n",
    "        # Images needs to be adjusted before using them\n",
    "        self.image1 = self.image1.resize((400, 300), Image.ANTIALIAS)\n",
    "        self.image2 = self.image2.resize((400, 300), Image.ANTIALIAS)\n",
    "        self.image3 = self.image3.resize((400, 300), Image.ANTIALIAS)\n",
    "        self.image4 = self.image4.resize((400, 300), Image.ANTIALIAS)\n",
    "        self.image5 = self.image5.resize((400, 300), Image.ANTIALIAS)\n",
    "        self.image6 = self.image6.resize((400, 300), Image.ANTIALIAS)\n",
    "        \n",
    "        # Creating Tkinter photo image objects for further use\n",
    "        self.tk_image1 = ImageTk.PhotoImage(self.image1)\n",
    "        self.tk_image2 = ImageTk.PhotoImage(self.image2)\n",
    "        self.tk_image3 = ImageTk.PhotoImage(self.image3)\n",
    "        self.tk_image4 = ImageTk.PhotoImage(self.image4)\n",
    "        self.tk_image5 = ImageTk.PhotoImage(self.image5)\n",
    "        self.tk_image6 = ImageTk.PhotoImage(self.image6)\n",
    "\n",
    "        # Creating necesasry lables in game such as \"user\", \"computer\" and \"result\" etc.\n",
    "        self.label1 = tk.Label(self, text=\"User\", font=(\"Times New Roman\", 16))\n",
    "        self.label2 = tk.Label(self, text=\"Computer\", font=(\"Times New Roman\", 16))\n",
    "\n",
    "        self.image_label1 = tk.Label(self, image=self.tk_image1)\n",
    "        self.image_label2 = tk.Label(self, image=self.tk_image2)\n",
    "        self.result = tk.Label(self, text=\"Result\", font=(\"Times New Roman\", 16))\n",
    "        self.heading = tk.Label(self, text=\"Rock, Paper, Scissors Game\", font=(\"Times New Roman\", 16))\n",
    "        \n",
    "        #Adding a button to Start/Restart the game\n",
    "        self.refresh_button = tk.Button(self, text=\"Start\", command=self.exec_game)\n",
    "\n",
    "        # Defining position the grid for heading in UI.\n",
    "        self.heading.grid(row=0, columnspan=2)\n",
    "        \n",
    "        # Defining position the grid for the text lables in UI.\n",
    "        self.label1.grid(row=1, column=0, pady=10)\n",
    "        self.label2.grid(row=1, column=1, pady=10)\n",
    "        \n",
    "        # Defining position in the grid for images in UI.\n",
    "        self.image_label1.grid(row=2, column=0, pady=10)\n",
    "        self.image_label2.grid(row=2, column=1, pady=10)\n",
    "        \n",
    "        # Defining position in the grid for the result text.\n",
    "        self.result.grid(row = 3, columnspan=2)\n",
    "        \n",
    "        # Defining position the grid for refresh button.\n",
    "        self.refresh_button.grid(row=4, columnspan=2, pady=10)\n",
    "        \n",
    "        \n",
    "    \"\"\"\n",
    "    Creating a function called 'exec_game', which will validate the inputs and provide result,\n",
    "    while handeling the game state based on inputs.\n",
    " \n",
    "    \"\"\"\n",
    "    def exec_game(self):\n",
    "        \n",
    "        #instance if speech_recognizer() class\n",
    "        speech_listen = speech_recognizer()\n",
    "        # instance of game_logic() class\n",
    "        game = game_logic()\n",
    "        \n",
    "        #Taking input from user\n",
    "        user_choice = speech_listen.main()\n",
    "        \n",
    "        #validating inputs and providing the feedbacks to user\n",
    "        #also fulfilling the condition showing the hand gesture image by user_choice and computer_choice\n",
    "        if user_choice in ['rock', 'paper', 'scissors']:\n",
    "            computer_choice, result = game.winner(user_choice)\n",
    "            if user_choice == 'rock':\n",
    "                self.image_label1.config(image=self.tk_image1)\n",
    "            elif user_choice == 'paper':\n",
    "                self.image_label1.config(image=self.tk_image3)\n",
    "            elif user_choice == 'scissors':\n",
    "                self.image_label1.config(image=self.tk_image5)\n",
    "            \n",
    "            if computer_choice == 'rock':\n",
    "                self.image_label2.config(image=self.tk_image2)\n",
    "            elif computer_choice == 'paper':\n",
    "                self.image_label2.config(image=self.tk_image4)\n",
    "            else:\n",
    "                self.image_label2.config(image=self.tk_image6)\n",
    "            self.result.config(text=result)\n",
    "            print(f'You chose: {user_choice} and Computer chose: {computer_choice}\\n{result}')\n",
    "            speech_listen.speak(f'You chose: {user_choice} Computer chose: {computer_choice} {result}')\n",
    "        else:\n",
    "            print(\"Please choose something from the options\")\n",
    "        \n",
    "# This bloack of code will initialize & starts the main loop for the ImageGUI.\n",
    "if __name__ == \"__main__\":\n",
    "    app = ImageGUI()\n",
    "    app.mainloop()"
   ]
  }
 ],
 "metadata": {
  "kernelspec": {
   "display_name": "Python 3 (ipykernel)",
   "language": "python",
   "name": "python3"
  },
  "language_info": {
   "codemirror_mode": {
    "name": "ipython",
    "version": 3
   },
   "file_extension": ".py",
   "mimetype": "text/x-python",
   "name": "python",
   "nbconvert_exporter": "python",
   "pygments_lexer": "ipython3",
   "version": "3.11.4"
  }
 },
 "nbformat": 4,
 "nbformat_minor": 5
}
